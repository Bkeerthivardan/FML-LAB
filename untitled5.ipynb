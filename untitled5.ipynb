{
  "nbformat": 4,
  "nbformat_minor": 0,
  "metadata": {
    "colab": {
      "provenance": [],
      "authorship_tag": "ABX9TyPBYwkp0+yZ6EdbxzIRU7jm",
      "include_colab_link": true
    },
    "kernelspec": {
      "name": "python3",
      "display_name": "Python 3"
    },
    "language_info": {
      "name": "python"
    }
  },
  "cells": [
    {
      "cell_type": "markdown",
      "metadata": {
        "id": "view-in-github",
        "colab_type": "text"
      },
      "source": [
        "<a href=\"https://colab.research.google.com/github/Bkeerthivardan/keerthivardhan/blob/main/untitled5.ipynb\" target=\"_parent\"><img src=\"https://colab.research.google.com/assets/colab-badge.svg\" alt=\"Open In Colab\"/></a>"
      ]
    },
    {
      "cell_type": "code",
      "execution_count": null,
      "metadata": {
        "id": "1VRTvuzrMDan"
      },
      "outputs": [],
      "source": [
        "import numpy as np\n",
        "import pandas as pd\n",
        "import matplotlib.pyplot as plt\n",
        "\n",
        "from sklearn import linear_model\n"
      ]
    },
    {
      "cell_type": "code",
      "source": [
        "data  = pd.read_csv(\"housing.csv\")\n",
        "data1=data.head(100)\n",
        "print(data1.to_string())\n"
      ],
      "metadata": {
        "colab": {
          "base_uri": "https://localhost:8080/"
        },
        "id": "IuY3iDFJPqW1",
        "outputId": "9c3579fd-8768-43ac-a521-30f6d2484122"
      },
      "execution_count": null,
      "outputs": [
        {
          "output_type": "stream",
          "name": "stdout",
          "text": [
            "       RM  LSTAT  PTRATIO      MEDV\n",
            "0   6.575   4.98     15.3  504000.0\n",
            "1   6.421   9.14     17.8  453600.0\n",
            "2   7.185   4.03     17.8  728700.0\n",
            "3   6.998   2.94     18.7  701400.0\n",
            "4   7.147   5.33     18.7  760200.0\n",
            "5   6.430   5.21     18.7  602700.0\n",
            "6   6.012  12.43     15.2  480900.0\n",
            "7   6.172  19.15     15.2  569100.0\n",
            "8   5.631  29.93     15.2  346500.0\n",
            "9   6.004  17.10     15.2  396900.0\n",
            "10  6.377  20.45     15.2  315000.0\n",
            "11  6.009  13.27     15.2  396900.0\n",
            "12  5.889  15.71     15.2  455700.0\n",
            "13  5.949   8.26     21.0  428400.0\n",
            "14  6.096  10.26     21.0  382200.0\n",
            "15  5.834   8.47     21.0  417900.0\n",
            "16  5.935   6.58     21.0  485100.0\n",
            "17  5.990  14.67     21.0  367500.0\n",
            "18  5.456  11.69     21.0  424200.0\n",
            "19  5.727  11.28     21.0  382200.0\n",
            "20  5.570  21.02     21.0  285600.0\n",
            "21  5.965  13.83     21.0  411600.0\n",
            "22  6.142  18.72     21.0  319200.0\n",
            "23  5.813  19.88     21.0  304500.0\n",
            "24  5.924  16.30     21.0  327600.0\n",
            "25  5.599  16.51     21.0  291900.0\n",
            "26  5.813  14.81     21.0  348600.0\n",
            "27  6.047  17.28     21.0  310800.0\n",
            "28  6.495  12.80     21.0  386400.0\n",
            "29  6.674  11.98     21.0  441000.0\n",
            "30  5.713  22.60     21.0  266700.0\n",
            "31  6.072  13.04     21.0  304500.0\n",
            "32  5.950  27.71     21.0  277200.0\n",
            "33  5.701  18.35     21.0  275100.0\n",
            "34  6.096  20.34     21.0  283500.0\n",
            "35  5.933   9.68     19.2  396900.0\n",
            "36  5.841  11.41     19.2  420000.0\n",
            "37  5.850   8.77     19.2  441000.0\n",
            "38  5.966  10.13     19.2  518700.0\n",
            "39  6.595   4.32     18.3  646800.0\n",
            "40  7.024   1.98     18.3  732900.0\n",
            "41  6.770   4.84     17.9  558600.0\n",
            "42  6.169   5.81     17.9  531300.0\n",
            "43  6.211   7.44     17.9  518700.0\n",
            "44  6.069   9.55     17.9  445200.0\n",
            "45  5.682  10.21     17.9  405300.0\n",
            "46  5.786  14.15     17.9  420000.0\n",
            "47  6.030  18.80     17.9  348600.0\n",
            "48  5.399  30.81     17.9  302400.0\n",
            "49  5.602  16.20     17.9  407400.0\n",
            "50  5.963  13.45     16.8  413700.0\n",
            "51  6.115   9.43     16.8  430500.0\n",
            "52  6.511   5.28     16.8  525000.0\n",
            "53  5.998   8.43     16.8  491400.0\n",
            "54  5.888  14.80     21.1  396900.0\n",
            "55  7.249   4.81     17.9  743400.0\n",
            "56  6.383   5.77     17.3  518700.0\n",
            "57  6.816   3.95     15.1  663600.0\n",
            "58  6.145   6.86     19.7  489300.0\n",
            "59  5.927   9.22     19.7  411600.0\n",
            "60  5.741  13.15     19.7  392700.0\n",
            "61  5.966  14.44     19.7  336000.0\n",
            "62  6.456   6.73     19.7  466200.0\n",
            "63  6.762   9.50     19.7  525000.0\n",
            "64  7.104   8.05     18.6  693000.0\n",
            "65  6.290   4.67     16.1  493500.0\n",
            "66  5.787  10.24     16.1  407400.0\n",
            "67  5.878   8.10     18.9  462000.0\n",
            "68  5.594  13.09     18.9  365400.0\n",
            "69  5.885   8.79     18.9  438900.0\n",
            "70  6.417   6.72     19.2  508200.0\n",
            "71  5.961   9.88     19.2  455700.0\n",
            "72  6.065   5.52     19.2  478800.0\n",
            "73  6.245   7.54     19.2  491400.0\n",
            "74  6.273   6.78     18.7  506100.0\n",
            "75  6.286   8.94     18.7  449400.0\n",
            "76  6.279  11.97     18.7  420000.0\n",
            "77  6.140  10.27     18.7  436800.0\n",
            "78  6.232  12.34     18.7  445200.0\n",
            "79  5.874   9.10     18.7  426300.0\n",
            "80  6.727   5.29     19.0  588000.0\n",
            "81  6.619   7.22     19.0  501900.0\n",
            "82  6.302   6.72     19.0  520800.0\n",
            "83  6.167   7.51     19.0  480900.0\n",
            "84  6.389   9.62     18.5  501900.0\n",
            "85  6.630   6.53     18.5  558600.0\n",
            "86  6.015  12.86     18.5  472500.0\n",
            "87  6.121   8.44     18.5  466200.0\n",
            "88  7.007   5.50     17.8  495600.0\n",
            "89  7.079   5.70     17.8  602700.0\n",
            "90  6.417   8.81     17.8  474600.0\n",
            "91  6.405   8.20     17.8  462000.0\n",
            "92  6.442   8.16     18.2  480900.0\n",
            "93  6.211   6.21     18.2  525000.0\n",
            "94  6.249  10.59     18.2  432600.0\n",
            "95  6.625   6.65     18.0  596400.0\n",
            "96  6.163  11.34     18.0  449400.0\n",
            "97  8.069   4.21     18.0  812700.0\n",
            "98  7.820   3.57     18.0  919800.0\n",
            "99  7.416   6.19     18.0  697200.0\n"
          ]
        }
      ]
    },
    {
      "cell_type": "code",
      "source": [
        "data.head()\n"
      ],
      "metadata": {
        "colab": {
          "base_uri": "https://localhost:8080/",
          "height": 204
        },
        "id": "S5StT4mTPjhI",
        "outputId": "977e194e-75a2-462c-ca3b-3ee3539d32c2"
      },
      "execution_count": null,
      "outputs": [
        {
          "output_type": "execute_result",
          "data": {
            "text/plain": [
              "      RM  LSTAT  PTRATIO      MEDV\n",
              "0  6.575   4.98     15.3  504000.0\n",
              "1  6.421   9.14     17.8  453600.0\n",
              "2  7.185   4.03     17.8  728700.0\n",
              "3  6.998   2.94     18.7  701400.0\n",
              "4  7.147   5.33     18.7  760200.0"
            ],
            "text/html": [
              "\n",
              "  <div id=\"df-91ed314c-691b-46c0-990f-915c291c749d\">\n",
              "    <div class=\"colab-df-container\">\n",
              "      <div>\n",
              "<style scoped>\n",
              "    .dataframe tbody tr th:only-of-type {\n",
              "        vertical-align: middle;\n",
              "    }\n",
              "\n",
              "    .dataframe tbody tr th {\n",
              "        vertical-align: top;\n",
              "    }\n",
              "\n",
              "    .dataframe thead th {\n",
              "        text-align: right;\n",
              "    }\n",
              "</style>\n",
              "<table border=\"1\" class=\"dataframe\">\n",
              "  <thead>\n",
              "    <tr style=\"text-align: right;\">\n",
              "      <th></th>\n",
              "      <th>RM</th>\n",
              "      <th>LSTAT</th>\n",
              "      <th>PTRATIO</th>\n",
              "      <th>MEDV</th>\n",
              "    </tr>\n",
              "  </thead>\n",
              "  <tbody>\n",
              "    <tr>\n",
              "      <th>0</th>\n",
              "      <td>6.575</td>\n",
              "      <td>4.98</td>\n",
              "      <td>15.3</td>\n",
              "      <td>504000.0</td>\n",
              "    </tr>\n",
              "    <tr>\n",
              "      <th>1</th>\n",
              "      <td>6.421</td>\n",
              "      <td>9.14</td>\n",
              "      <td>17.8</td>\n",
              "      <td>453600.0</td>\n",
              "    </tr>\n",
              "    <tr>\n",
              "      <th>2</th>\n",
              "      <td>7.185</td>\n",
              "      <td>4.03</td>\n",
              "      <td>17.8</td>\n",
              "      <td>728700.0</td>\n",
              "    </tr>\n",
              "    <tr>\n",
              "      <th>3</th>\n",
              "      <td>6.998</td>\n",
              "      <td>2.94</td>\n",
              "      <td>18.7</td>\n",
              "      <td>701400.0</td>\n",
              "    </tr>\n",
              "    <tr>\n",
              "      <th>4</th>\n",
              "      <td>7.147</td>\n",
              "      <td>5.33</td>\n",
              "      <td>18.7</td>\n",
              "      <td>760200.0</td>\n",
              "    </tr>\n",
              "  </tbody>\n",
              "</table>\n",
              "</div>\n",
              "      <button class=\"colab-df-convert\" onclick=\"convertToInteractive('df-91ed314c-691b-46c0-990f-915c291c749d')\"\n",
              "              title=\"Convert this dataframe to an interactive table.\"\n",
              "              style=\"display:none;\">\n",
              "        \n",
              "  <svg xmlns=\"http://www.w3.org/2000/svg\" height=\"24px\"viewBox=\"0 0 24 24\"\n",
              "       width=\"24px\">\n",
              "    <path d=\"M0 0h24v24H0V0z\" fill=\"none\"/>\n",
              "    <path d=\"M18.56 5.44l.94 2.06.94-2.06 2.06-.94-2.06-.94-.94-2.06-.94 2.06-2.06.94zm-11 1L8.5 8.5l.94-2.06 2.06-.94-2.06-.94L8.5 2.5l-.94 2.06-2.06.94zm10 10l.94 2.06.94-2.06 2.06-.94-2.06-.94-.94-2.06-.94 2.06-2.06.94z\"/><path d=\"M17.41 7.96l-1.37-1.37c-.4-.4-.92-.59-1.43-.59-.52 0-1.04.2-1.43.59L10.3 9.45l-7.72 7.72c-.78.78-.78 2.05 0 2.83L4 21.41c.39.39.9.59 1.41.59.51 0 1.02-.2 1.41-.59l7.78-7.78 2.81-2.81c.8-.78.8-2.07 0-2.86zM5.41 20L4 18.59l7.72-7.72 1.47 1.35L5.41 20z\"/>\n",
              "  </svg>\n",
              "      </button>\n",
              "      \n",
              "  <style>\n",
              "    .colab-df-container {\n",
              "      display:flex;\n",
              "      flex-wrap:wrap;\n",
              "      gap: 12px;\n",
              "    }\n",
              "\n",
              "    .colab-df-convert {\n",
              "      background-color: #E8F0FE;\n",
              "      border: none;\n",
              "      border-radius: 50%;\n",
              "      cursor: pointer;\n",
              "      display: none;\n",
              "      fill: #1967D2;\n",
              "      height: 32px;\n",
              "      padding: 0 0 0 0;\n",
              "      width: 32px;\n",
              "    }\n",
              "\n",
              "    .colab-df-convert:hover {\n",
              "      background-color: #E2EBFA;\n",
              "      box-shadow: 0px 1px 2px rgba(60, 64, 67, 0.3), 0px 1px 3px 1px rgba(60, 64, 67, 0.15);\n",
              "      fill: #174EA6;\n",
              "    }\n",
              "\n",
              "    [theme=dark] .colab-df-convert {\n",
              "      background-color: #3B4455;\n",
              "      fill: #D2E3FC;\n",
              "    }\n",
              "\n",
              "    [theme=dark] .colab-df-convert:hover {\n",
              "      background-color: #434B5C;\n",
              "      box-shadow: 0px 1px 3px 1px rgba(0, 0, 0, 0.15);\n",
              "      filter: drop-shadow(0px 1px 2px rgba(0, 0, 0, 0.3));\n",
              "      fill: #FFFFFF;\n",
              "    }\n",
              "  </style>\n",
              "\n",
              "      <script>\n",
              "        const buttonEl =\n",
              "          document.querySelector('#df-91ed314c-691b-46c0-990f-915c291c749d button.colab-df-convert');\n",
              "        buttonEl.style.display =\n",
              "          google.colab.kernel.accessAllowed ? 'block' : 'none';\n",
              "\n",
              "        async function convertToInteractive(key) {\n",
              "          const element = document.querySelector('#df-91ed314c-691b-46c0-990f-915c291c749d');\n",
              "          const dataTable =\n",
              "            await google.colab.kernel.invokeFunction('convertToInteractive',\n",
              "                                                     [key], {});\n",
              "          if (!dataTable) return;\n",
              "\n",
              "          const docLinkHtml = 'Like what you see? Visit the ' +\n",
              "            '<a target=\"_blank\" href=https://colab.research.google.com/notebooks/data_table.ipynb>data table notebook</a>'\n",
              "            + ' to learn more about interactive tables.';\n",
              "          element.innerHTML = '';\n",
              "          dataTable['output_type'] = 'display_data';\n",
              "          await google.colab.output.renderOutput(dataTable, element);\n",
              "          const docLink = document.createElement('div');\n",
              "          docLink.innerHTML = docLinkHtml;\n",
              "          element.appendChild(docLink);\n",
              "        }\n",
              "      </script>\n",
              "    </div>\n",
              "  </div>\n",
              "  "
            ]
          },
          "metadata": {},
          "execution_count": 7
        }
      ]
    },
    {
      "cell_type": "code",
      "source": [
        "#Create feature and target array from such given data\n",
        "X= data.drop('MEDV', axis=1).values\n",
        "y= data['MEDV'].values\n",
        "print(X)\n",
        "print(y)\n"
      ],
      "metadata": {
        "colab": {
          "base_uri": "https://localhost:8080/"
        },
        "id": "ruRkFD0-Sssb",
        "outputId": "eb69741f-7615-41c9-b3e6-2af8d18f6cd1"
      },
      "execution_count": null,
      "outputs": [
        {
          "output_type": "stream",
          "name": "stdout",
          "text": [
            "[[ 6.575  4.98  15.3  ]\n",
            " [ 6.421  9.14  17.8  ]\n",
            " [ 7.185  4.03  17.8  ]\n",
            " ...\n",
            " [ 6.976  5.64  21.   ]\n",
            " [ 6.794  6.48  21.   ]\n",
            " [ 6.03   7.88  21.   ]]\n",
            "[ 504000.  453600.  728700.  701400.  760200.  602700.  480900.  569100.\n",
            "  346500.  396900.  315000.  396900.  455700.  428400.  382200.  417900.\n",
            "  485100.  367500.  424200.  382200.  285600.  411600.  319200.  304500.\n",
            "  327600.  291900.  348600.  310800.  386400.  441000.  266700.  304500.\n",
            "  277200.  275100.  283500.  396900.  420000.  441000.  518700.  646800.\n",
            "  732900.  558600.  531300.  518700.  445200.  405300.  420000.  348600.\n",
            "  302400.  407400.  413700.  430500.  525000.  491400.  396900.  743400.\n",
            "  518700.  663600.  489300.  411600.  392700.  336000.  466200.  525000.\n",
            "  693000.  493500.  407400.  462000.  365400.  438900.  508200.  455700.\n",
            "  478800.  491400.  506100.  449400.  420000.  436800.  445200.  426300.\n",
            "  588000.  501900.  520800.  480900.  501900.  558600.  472500.  466200.\n",
            "  495600.  602700.  474600.  462000.  480900.  525000.  432600.  596400.\n",
            "  449400.  812700.  919800.  697200.  577500.  556500.  390600.  405300.\n",
            "  422100.  409500.  409500.  428400.  415800.  407400.  455700.  478800.\n",
            "  394800.  392700.  388500.  384300.  445200.  403200.  428400.  405300.\n",
            "  462000.  426300.  430500.  363300.  394800.  449400.  329700.  340200.\n",
            "  378000.  300300.  403200.  411600.  483000.  386400.  327600.  380100.\n",
            "  365400.  359100.  279300.  373800.  294000.  302400.  281400.  327600.\n",
            "  247800.  289800.  327600.  306600.  373800.  323400.  451500.  411600.\n",
            "  321300.  407400.  357000.  327600.  275100.  867300.  510300.  489300.\n",
            "  567000.  476700.  525000.  499800.  499800.  468300.  365400.  401100.\n",
            "  485100.  495600.  474600.  617400.  487200.  516600.  627900.  781200.\n",
            "  835800.  760200.  795900.  682500.  554400.  621600.  672000.  625800.\n",
            "  732900.  777000.  640500.  764400.  653100.  611100.  699300.  636300.\n",
            "  726600.  732900.  690900.  506100.  888300. 1018500.  474600.  512400.\n",
            "  472500.  512400.  420000.  455700.  405300.  470400.  590100.  497700.\n",
            "  525000.  489300.  602700.  451500.  483000.  560700.  455700.  577500.\n",
            "  632100.  940800.  789600.  663600.  980700.  661500.  510300.  665700.\n",
            "  875700. 1014300.  609000.  504000.  527100.  661500.  497700.  489300.\n",
            "  462000.  422100.  466200.  497700.  369600.  388500.  510300.  430500.\n",
            "  514500.  550200.  512400.  520800.  621600.  898800.  459900.  438900.\n",
            "  924000.  756000.  632100.  709800.  905100. 1024800.  651000.  766500.\n",
            "  478800.  644700.  913500.  434700.  443100.  529200.  512400.  739200.\n",
            "  680400.  672000.  697200.  695100.  611100.  737100.  953400.  743400.\n",
            "  966000.  676200.  462000.  422100.  487200.  468300.  520800.  598500.\n",
            "  783300.  585900.  501900.  455700.  600600.  569100.  426300.  472500.\n",
            "  609000.  520800.  462000.  554400.  695100.  758100.  596400.  701400.\n",
            "  592200.  478800.  426300.  338100.  464100.  407400.  453600.  499800.\n",
            "  340200.  373800.  415800.  485100.  441000.  499800.  485100.  428400.\n",
            "  388500.  525000.  516600.  483000.  466200.  405300.  474600.  415800.\n",
            "  359100.  407400.  466200.  434700.  443100.  409500.  388500.  432600.\n",
            "  399000.  392700.  686700.  346500.  501900.  655200.  367500.  361200.\n",
            "  485100.  514500.  558600.  480900.  506100.  390600.  632100.  382200.\n",
            "  432600.  373800.  455700.  476700.  474600.  525000.  417900.  436800.\n",
            "  352800.  577500.  459900.  485100.  289800.  289800.  315000.  291900.\n",
            "  279300.  275100.  214200.  218400.  228900.  237300.  258300.  184800.\n",
            "  151200.  220500.  155400.  214200.  241500.  317100.  487200.  203700.\n",
            "  289800.  266700.  275100.  262500.  178500.  105000.  132300.  117600.\n",
            "  151200.  254100.  174300.  178500.  105000.  249900.  585900.  361200.\n",
            "  577500.  315000.  361200.  375900.  342300.  147000.  151200.  157500.\n",
            "  218400.  184800.  176400.  350700.  298200.  436800.  281400.  245700.\n",
            "  174300.  214200.  228900.  231000.  199500.  304500.  296100.  338100.\n",
            "  300300.  245700.  281400.  201600.  182700.  176400.  268800.  220500.\n",
            "  359100.  386400.  323400.  226800.  247800.  312900.  264600.  296100.\n",
            "  273000.  281400.  319200.  338100.  373800.  312900.  296100.  266700.\n",
            "  283500.  312900.  420000.  344400.  371700.  409500.  424200.  449400.\n",
            "  417900.  399000.  401100.  401100.  422100.  417900.  411600.  487200.\n",
            "  625800.  289800.  279300.  350700.  252000.  306600.  449400.  483000.\n",
            "  497700.  525000.  457800.  432600.  445200.  401100.  432600.  319200.\n",
            "  147000.  170100.  285600.  422100.  457800.  514500.  485100.  413700.\n",
            "  384300.  445200.  367500.  352800.  470400.  432600.  501900.  462000.\n",
            "  249900.]\n"
          ]
        }
      ]
    },
    {
      "cell_type": "code",
      "source": [
        "X_rooms = X[:, 0]\n",
        "     "
      ],
      "metadata": {
        "id": "l9oXYChATajN"
      },
      "execution_count": null,
      "outputs": []
    },
    {
      "cell_type": "code",
      "source": [
        "type(X_rooms), type(y)\n"
      ],
      "metadata": {
        "colab": {
          "base_uri": "https://localhost:8080/"
        },
        "id": "bFHGgiEsVj47",
        "outputId": "14cc8dae-36d9-4324-e7e6-9eae3c5bc696"
      },
      "execution_count": null,
      "outputs": [
        {
          "output_type": "execute_result",
          "data": {
            "text/plain": [
              "(numpy.ndarray, numpy.ndarray)"
            ]
          },
          "metadata": {},
          "execution_count": 35
        }
      ]
    },
    {
      "cell_type": "code",
      "source": [
        "X_rooms.shape, y.shape\n"
      ],
      "metadata": {
        "colab": {
          "base_uri": "https://localhost:8080/"
        },
        "id": "AlqBUvpBVoEM",
        "outputId": "86ec9ad0-f378-41cc-9d64-486aa384e953"
      },
      "execution_count": null,
      "outputs": [
        {
          "output_type": "execute_result",
          "data": {
            "text/plain": [
              "((489,), (489,))"
            ]
          },
          "metadata": {},
          "execution_count": 36
        }
      ]
    },
    {
      "cell_type": "code",
      "source": [
        "X_rooms = X_rooms.reshape(-1,1)\n",
        "y = y.reshape(-1, 1)\n",
        "     \n"
      ],
      "metadata": {
        "id": "cOGg8U5RVsI6"
      },
      "execution_count": null,
      "outputs": []
    },
    {
      "cell_type": "code",
      "source": [
        "X_rooms.shape, y.shape\n"
      ],
      "metadata": {
        "colab": {
          "base_uri": "https://localhost:8080/"
        },
        "id": "_rv1XVj0Vwe5",
        "outputId": "ca583364-ce2f-48e1-c331-f5ff37644948"
      },
      "execution_count": null,
      "outputs": [
        {
          "output_type": "execute_result",
          "data": {
            "text/plain": [
              "((489, 1), (489, 1))"
            ]
          },
          "metadata": {},
          "execution_count": 45
        }
      ]
    },
    {
      "cell_type": "code",
      "source": [
        "plt.scatter(X_rooms, y)\n",
        "plt.xlabel('Number of rooms')\n",
        "plt.ylabel('Value of house /1000($)')\n",
        "plt.show()"
      ],
      "metadata": {
        "colab": {
          "base_uri": "https://localhost:8080/",
          "height": 290
        },
        "id": "x_B-T8VvU1gt",
        "outputId": "418c8502-7cf6-4c57-9e4c-ec1feacaf90f"
      },
      "execution_count": null,
      "outputs": [
        {
          "output_type": "display_data",
          "data": {
            "text/plain": [
              "<Figure size 432x288 with 1 Axes>"
            ],
            "image/png": "[encoded data removed]"
          },
          "metadata": {
            "needs_background": "light"
          }
        }
      ]
    },
    {
      "cell_type": "code",
      "source": [
        "reg = linear_model.LinearRegression()\n",
        "reg.fit(X_rooms, y)\n",
        "     "
      ],
      "metadata": {
        "colab": {
          "base_uri": "https://localhost:8080/",
          "height": 74
        },
        "id": "IOIdG9MtXRXc",
        "outputId": "e762bf14-a437-4ed1-b488-173c52203a0a"
      },
      "execution_count": null,
      "outputs": [
        {
          "output_type": "execute_result",
          "data": {
            "text/plain": [
              "LinearRegression()"
            ],
            "text/html": [
              "<style>#sk-container-id-1 {color: black;background-color: white;}#sk-container-id-1 pre{padding: 0;}#sk-container-id-1 div.sk-toggleable {background-color: white;}#sk-container-id-1 label.sk-toggleable__label {cursor: pointer;display: block;width: 100%;margin-bottom: 0;padding: 0.3em;box-sizing: border-box;text-align: center;}#sk-container-id-1 label.sk-toggleable__label-arrow:before {content: \"▸\";float: left;margin-right: 0.25em;color: #696969;}#sk-container-id-1 label.sk-toggleable__label-arrow:hover:before {color: black;}#sk-container-id-1 div.sk-estimator:hover label.sk-toggleable__label-arrow:before {color: black;}#sk-container-id-1 div.sk-toggleable__content {max-height: 0;max-width: 0;overflow: hidden;text-align: left;background-color: #f0f8ff;}#sk-container-id-1 div.sk-toggleable__content pre {margin: 0.2em;color: black;border-radius: 0.25em;background-color: #f0f8ff;}#sk-container-id-1 input.sk-toggleable__control:checked~div.sk-toggleable__content {max-height: 200px;max-width: 100%;overflow: auto;}#sk-container-id-1 input.sk-toggleable__control:checked~label.sk-toggleable__label-arrow:before {content: \"▾\";}#sk-container-id-1 div.sk-estimator input.sk-toggleable__control:checked~label.sk-toggleable__label {background-color: #d4ebff;}#sk-container-id-1 div.sk-label input.sk-toggleable__control:checked~label.sk-toggleable__label {background-color: #d4ebff;}#sk-container-id-1 input.sk-hidden--visually {border: 0;clip: rect(1px 1px 1px 1px);clip: rect(1px, 1px, 1px, 1px);height: 1px;margin: -1px;overflow: hidden;padding: 0;position: absolute;width: 1px;}#sk-container-id-1 div.sk-estimator {font-family: monospace;background-color: #f0f8ff;border: 1px dotted black;border-radius: 0.25em;box-sizing: border-box;margin-bottom: 0.5em;}#sk-container-id-1 div.sk-estimator:hover {background-color: #d4ebff;}#sk-container-id-1 div.sk-parallel-item::after {content: \"\";width: 100%;border-bottom: 1px solid gray;flex-grow: 1;}#sk-container-id-1 div.sk-label:hover label.sk-toggleable__label {background-color: #d4ebff;}#sk-container-id-1 div.sk-serial::before {content: \"\";position: absolute;border-left: 1px solid gray;box-sizing: border-box;top: 0;bottom: 0;left: 50%;z-index: 0;}#sk-container-id-1 div.sk-serial {display: flex;flex-direction: column;align-items: center;background-color: white;padding-right: 0.2em;padding-left: 0.2em;position: relative;}#sk-container-id-1 div.sk-item {position: relative;z-index: 1;}#sk-container-id-1 div.sk-parallel {display: flex;align-items: stretch;justify-content: center;background-color: white;position: relative;}#sk-container-id-1 div.sk-item::before, #sk-container-id-1 div.sk-parallel-item::before {content: \"\";position: absolute;border-left: 1px solid gray;box-sizing: border-box;top: 0;bottom: 0;left: 50%;z-index: -1;}#sk-container-id-1 div.sk-parallel-item {display: flex;flex-direction: column;z-index: 1;position: relative;background-color: white;}#sk-container-id-1 div.sk-parallel-item:first-child::after {align-self: flex-end;width: 50%;}#sk-container-id-1 div.sk-parallel-item:last-child::after {align-self: flex-start;width: 50%;}#sk-container-id-1 div.sk-parallel-item:only-child::after {width: 0;}#sk-container-id-1 div.sk-dashed-wrapped {border: 1px dashed gray;margin: 0 0.4em 0.5em 0.4em;box-sizing: border-box;padding-bottom: 0.4em;background-color: white;}#sk-container-id-1 div.sk-label label {font-family: monospace;font-weight: bold;display: inline-block;line-height: 1.2em;}#sk-container-id-1 div.sk-label-container {text-align: center;}#sk-container-id-1 div.sk-container {/* jupyter's `normalize.less` sets `[hidden] { display: none; }` but bootstrap.min.css set `[hidden] { display: none !important; }` so we also need the `!important` here to be able to override the default hidden behavior on the sphinx rendered scikit-learn.org. See: https://github.com/scikit-learn/scikit-learn/issues/21755 */display: inline-block !important;position: relative;}#sk-container-id-1 div.sk-text-repr-fallback {display: none;}</style><div id=\"sk-container-id-1\" class=\"sk-top-container\"><div class=\"sk-text-repr-fallback\"><pre>LinearRegression()</pre><b>In a Jupyter environment, please rerun this cell to show the HTML representation or trust the notebook. <br />On GitHub, the HTML representation is unable to render, please try loading this page with nbviewer.org.</b></div><div class=\"sk-container\" hidden><div class=\"sk-item\"><div class=\"sk-estimator sk-toggleable\"><input class=\"sk-toggleable__control sk-hidden--visually\" id=\"sk-estimator-id-1\" type=\"checkbox\" checked><label for=\"sk-estimator-id-1\" class=\"sk-toggleable__label sk-toggleable__label-arrow\">LinearRegression</label><div class=\"sk-toggleable__content\"><pre>LinearRegression()</pre></div></div></div></div></div>"
            ]
          },
          "metadata": {},
          "execution_count": 47
        }
      ]
    },
    {
      "cell_type": "code",
      "source": [
        "from sklearn.metrics import mean_absolute_error,r2_score,mean_squared_error\n",
        "y_pred = reg.predict(X_rooms)\n",
        "\n",
        "print(f'MAE = {mean_absolute_error(y, y_pred)}')\n",
        "print(f'MSE = {mean_squared_error(y, y_pred)}')\n",
        "print(f'RMSE = {np.sqrt(mean_squared_error(y, y_pred))}')\n",
        "print(f'R_2 = {r2_score(y, y_pred)}')\n",
        "     \n",
        "MAE = 4.4477729015322325\n",
        "MSE = 43.60055177116956\n",
        "RMSE = 6.603071389222561\n",
        "R_2 = 0.48352545599133423"
      ],
      "metadata": {
        "colab": {
          "base_uri": "https://localhost:8080/"
        },
        "id": "zHA6SqILXXLk",
        "outputId": "bc6951d9-f782-413f-f7e7-3a6193e5b7a7"
      },
      "execution_count": null,
      "outputs": [
        {
          "output_type": "stream",
          "name": "stdout",
          "text": [
            "MAE = 85157.84730893777\n",
            "MSE = 14019945196.249697\n",
            "RMSE = 118405.84950182865\n",
            "R_2 = 0.48610069787324506\n"
          ]
        }
      ]
    },
    {
      "cell_type": "code",
      "source": [
        "prediction_space = np.linspace(min(X_rooms), max(X_rooms)).reshape(-1,1)"
      ],
      "metadata": {
        "id": "JvKwKi4cXhE6"
      },
      "execution_count": null,
      "outputs": []
    },
    {
      "cell_type": "code",
      "source": [
        "plt.scatter(X_rooms, y, color='blue')\n",
        "plt.plot(X_rooms, reg.predict(X_rooms), color='green', linewidth=3)\n",
        "plt.show()"
      ],
      "metadata": {
        "colab": {
          "base_uri": "https://localhost:8080/",
          "height": 276
        },
        "id": "uJ89BnkjXmu6",
        "outputId": "5ce7346a-4fc4-4e90-aa08-73a622e75ae7"
      },
      "execution_count": null,
      "outputs": [
        {
          "output_type": "display_data",
          "data": {
            "text/plain": [
              "<Figure size 432x288 with 1 Axes>"
            ],
            "image/png": "[encoded data removed]"
          },
          "metadata": {
            "needs_background": "light"
          }
        }
      ]
    },
    {
      "cell_type": "code",
      "source": [
        "plt.scatter(X_rooms, y, color='blue')\n",
        "plt.plot(prediction_space, reg.predict(prediction_space), color='black', linewidth=3)\n",
        "plt.show()"
      ],
      "metadata": {
        "colab": {
          "base_uri": "https://localhost:8080/",
          "height": 276
        },
        "id": "Qv31BLvnYX2z",
        "outputId": "172294f8-f6ca-402a-b4e8-5dd82dd9f03e"
      },
      "execution_count": null,
      "outputs": [
        {
          "output_type": "display_data",
          "data": {
            "text/plain": [
              "<Figure size 432x288 with 1 Axes>"
            ],
            "image/png": "[encoded data removed]"
          },
          "metadata": {
            "needs_background": "light"
          }
        }
      ]
    }
  ]
}